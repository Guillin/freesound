{
 "cells": [
  {
   "cell_type": "code",
   "execution_count": 1,
   "metadata": {},
   "outputs": [],
   "source": [
    "import torch\n",
    "import torch.nn as nn\n",
    "import torchvision.transforms as transforms\n",
    "import torchvision.datasets as dsets\n",
    "from torch.autograd import Variable"
   ]
  },
  {
   "cell_type": "code",
   "execution_count": 2,
   "metadata": {},
   "outputs": [],
   "source": [
    "from torch.utils.data import Dataset, DataLoader"
   ]
  },
  {
   "cell_type": "code",
   "execution_count": 3,
   "metadata": {},
   "outputs": [],
   "source": [
    "import pandas as pd\n",
    "import pickle"
   ]
  },
  {
   "cell_type": "code",
   "execution_count": 4,
   "metadata": {},
   "outputs": [],
   "source": [
    "import torch.utils.data as utils"
   ]
  },
  {
   "cell_type": "code",
   "execution_count": 5,
   "metadata": {},
   "outputs": [],
   "source": [
    "import numpy as np"
   ]
  },
  {
   "cell_type": "code",
   "execution_count": 6,
   "metadata": {},
   "outputs": [],
   "source": [
    "from sklearn.preprocessing import LabelEncoder\n"
   ]
  },
  {
   "cell_type": "code",
   "execution_count": 7,
   "metadata": {},
   "outputs": [],
   "source": [
    "from sklearn.model_selection import train_test_split"
   ]
  },
  {
   "cell_type": "markdown",
   "metadata": {},
   "source": [
    "### STEP 2: LOADING DATASET "
   ]
  },
  {
   "cell_type": "code",
   "execution_count": 8,
   "metadata": {},
   "outputs": [],
   "source": [
    "class FreeSoundDataset(Dataset):\n",
    "    \"\"\" FreeSound dataset.\"\"\"\n",
    "\n",
    "    # Initialize your data, download, etc.\n",
    "    def __init__(self, X, y):\n",
    "        \n",
    "        self.len = X.shape[0]\n",
    "        self.x_data = torch.from_numpy(X)\n",
    "        self.y_data = torch.from_numpy(y)\n",
    "\n",
    "    def __getitem__(self, index):\n",
    "        return (self.x_data[index], self.y_data[index])\n",
    "\n",
    "    def __len__(self):\n",
    "        return self.len"
   ]
  },
  {
   "cell_type": "code",
   "execution_count": 9,
   "metadata": {},
   "outputs": [],
   "source": [
    "X = np.load('../data/processed/mel/train_noisy_mel128_len600.npy')"
   ]
  },
  {
   "cell_type": "code",
   "execution_count": 10,
   "metadata": {},
   "outputs": [],
   "source": [
    "X = X[:, : ,:128]"
   ]
  },
  {
   "cell_type": "code",
   "execution_count": 11,
   "metadata": {},
   "outputs": [
    {
     "data": {
      "text/plain": [
       "(19815, 128, 128)"
      ]
     },
     "execution_count": 11,
     "metadata": {},
     "output_type": "execute_result"
    }
   ],
   "source": [
    "X.shape"
   ]
  },
  {
   "cell_type": "code",
   "execution_count": 12,
   "metadata": {},
   "outputs": [],
   "source": [
    "labels = pd.read_csv('../data/processed/train_noisy.csv',sep=';')['labels']"
   ]
  },
  {
   "cell_type": "code",
   "execution_count": 13,
   "metadata": {},
   "outputs": [],
   "source": [
    "labels = [l.split(',')[0] for l in labels]"
   ]
  },
  {
   "cell_type": "code",
   "execution_count": 14,
   "metadata": {},
   "outputs": [
    {
     "data": {
      "text/plain": [
       "LabelEncoder()"
      ]
     },
     "execution_count": 14,
     "metadata": {},
     "output_type": "execute_result"
    }
   ],
   "source": [
    "le = LabelEncoder()\n",
    "le.fit(labels)"
   ]
  },
  {
   "cell_type": "code",
   "execution_count": 15,
   "metadata": {},
   "outputs": [],
   "source": [
    "target = le.transform(labels) "
   ]
  },
  {
   "cell_type": "code",
   "execution_count": 16,
   "metadata": {},
   "outputs": [
    {
     "data": {
      "text/plain": [
       "0"
      ]
     },
     "execution_count": 16,
     "metadata": {},
     "output_type": "execute_result"
    }
   ],
   "source": [
    "np.min(pd.unique(target))"
   ]
  },
  {
   "cell_type": "code",
   "execution_count": 17,
   "metadata": {},
   "outputs": [],
   "source": [
    "X_train, X_test, y_train, y_test=train_test_split(X, target, test_size=0.3, random_state=47, stratify=target)"
   ]
  },
  {
   "cell_type": "code",
   "execution_count": 18,
   "metadata": {},
   "outputs": [
    {
     "name": "stdout",
     "output_type": "stream",
     "text": [
      "X_train: (13870, 128, 128)\n",
      "X_test: (5945, 128, 128)\n",
      "y_train: (13870,)\n",
      "y_test: (5945,)\n"
     ]
    }
   ],
   "source": [
    "print('X_train:', X_train.shape)\n",
    "\n",
    "print('X_test:', X_test.shape)\n",
    "\n",
    "print('y_train:', y_train.shape)\n",
    "print('y_test:', y_test.shape)"
   ]
  },
  {
   "cell_type": "code",
   "execution_count": 19,
   "metadata": {},
   "outputs": [],
   "source": [
    "train_dataset = FreeSoundDataset(X_train, y_train)"
   ]
  },
  {
   "cell_type": "code",
   "execution_count": 20,
   "metadata": {},
   "outputs": [],
   "source": [
    "test_dataset = FreeSoundDataset(X_test, y_test)"
   ]
  },
  {
   "cell_type": "markdown",
   "metadata": {},
   "source": [
    "### STEP 2: MAKING DATASET ITERABLE"
   ]
  },
  {
   "cell_type": "code",
   "execution_count": 21,
   "metadata": {},
   "outputs": [
    {
     "data": {
      "text/plain": [
       "69"
      ]
     },
     "execution_count": 21,
     "metadata": {},
     "output_type": "execute_result"
    }
   ],
   "source": [
    "batch_size = 32\n",
    "n_iters = 30000\n",
    "num_epochs = n_iters / (len(train_dataset) / batch_size)\n",
    "num_epochs = int(num_epochs)\n",
    "num_epochs #= 100"
   ]
  },
  {
   "cell_type": "code",
   "execution_count": 22,
   "metadata": {},
   "outputs": [],
   "source": [
    "transformations = transforms.Compose([transforms.ToTensor()])"
   ]
  },
  {
   "cell_type": "code",
   "execution_count": 23,
   "metadata": {},
   "outputs": [],
   "source": [
    "train_loader = torch.utils.data.DataLoader(dataset=train_dataset, \n",
    "                                           batch_size= batch_size, \n",
    "                                           shuffle=True)"
   ]
  },
  {
   "cell_type": "code",
   "execution_count": 24,
   "metadata": {},
   "outputs": [],
   "source": [
    "test_loader = torch.utils.data.DataLoader(dataset=test_dataset, \n",
    "                                          batch_size=batch_size, \n",
    "                                          shuffle=False)"
   ]
  },
  {
   "cell_type": "markdown",
   "metadata": {},
   "source": [
    "### STEP 3: CREATE MODEL CLASS"
   ]
  },
  {
   "cell_type": "code",
   "execution_count": 25,
   "metadata": {},
   "outputs": [],
   "source": [
    "class CNNModel(nn.Module):\n",
    "    def __init__(self):\n",
    "        super(CNNModel, self).__init__()\n",
    "        \n",
    "        # Convolution 1\n",
    "        self.cnn1 = nn.Conv2d(in_channels=1, out_channels=32, kernel_size=3, stride=1, padding=1)\n",
    "        self.batchnorm1 = nn.BatchNorm2d(32)\n",
    "        self.relu1 = nn.ReLU()\n",
    "\n",
    "        # # Max pool 1\n",
    "        self.maxpool1 = nn.MaxPool2d(kernel_size=2)\n",
    "\n",
    "\n",
    "\n",
    "        # Convolution 2\n",
    "        self.cnn2 = nn.Conv2d(in_channels=32, out_channels=32, kernel_size=3, stride=1, padding=1)\n",
    "        self.batchnorm2 = nn.BatchNorm2d(32)\n",
    "        self.relu2 = nn.ReLU()\n",
    "\n",
    "        # # Max pool 2\n",
    "        self.maxpool2 = nn.MaxPool2d(kernel_size=2)\n",
    "\n",
    "\n",
    "\n",
    "        # Convolution 3\n",
    "        self.cnn3 = nn.Conv2d(in_channels=32, out_channels=32, kernel_size=3, stride=1, padding=1)\n",
    "        self.batchnorm3 = nn.BatchNorm2d(32)\n",
    "        self.relu3 = nn.ReLU()\n",
    "\n",
    "        # # Max pool 3\n",
    "        self.maxpool3 = nn.MaxPool2d(kernel_size=2)\n",
    "\n",
    "\n",
    "\n",
    "        # Convolution 4\n",
    "        self.cnn4 = nn.Conv2d(in_channels=32, out_channels=32, kernel_size=3, stride=1, padding=1)\n",
    "        self.batchnorm4 = nn.BatchNorm2d(32)\n",
    "        self.relu4 = nn.ReLU()\n",
    "\n",
    "        # # Max pool 4\n",
    "        self.maxpool4 = nn.MaxPool2d(kernel_size=2)\n",
    "\n",
    "\n",
    "\n",
    "        \n",
    "\n",
    "        # Fully connected 1 (readout)\n",
    "        self.fc1 = nn.Linear(32 * 8 * 8, 80) \n",
    "\n",
    "        \n",
    "    \n",
    "    def forward(self, x):\n",
    "        # Convolution 1\n",
    "        out = self.cnn1(x.float())\n",
    "        out = self.batchnorm1(out)\n",
    "        out = self.relu1(out)\n",
    "\n",
    "        # Max pool 1\n",
    "        out = self.maxpool1(out)\n",
    "\n",
    "\n",
    "        # Convolution 2\n",
    "        out = self.cnn2(out)\n",
    "        out = self.batchnorm2(out)\n",
    "        out = self.relu2(out)\n",
    "\n",
    "        # Max pool 2\n",
    "        out = self.maxpool2(out)\n",
    "\n",
    "\n",
    "\n",
    "        # Convolution 3\n",
    "        out = self.cnn3(out)\n",
    "        out = self.batchnorm3(out)\n",
    "        out = self.relu3(out)\n",
    "\n",
    "        # Max pool 3\n",
    "        out = self.maxpool3(out)\n",
    "\n",
    "\n",
    "\n",
    "        # Convolution 4\n",
    "        out = self.cnn4(out)\n",
    "        out = self.batchnorm4(out)\n",
    "        out = self.relu4(out)\n",
    "\n",
    "        # Max pool 4\n",
    "        out = self.maxpool4(out)\n",
    "\n",
    "  \n",
    "\n",
    "        # Dropout 1\n",
    "        #out = self.dropout(out)\n",
    "\n",
    "                     \n",
    "        # Resize\n",
    "        # Original size: (100, 32, 7, 7)\n",
    "        # out.size(0): 100\n",
    "        # New out size: (100, 32*7*7)\n",
    "        out = out.view(out.size(0), -1)\n",
    "\n",
    "        # Linear function (readout)\n",
    "        out = self.fc1(out)\n",
    "        \n",
    "        return out"
   ]
  },
  {
   "cell_type": "markdown",
   "metadata": {},
   "source": [
    "### STEP 4: INSTANTIATE MODEL CLASS"
   ]
  },
  {
   "cell_type": "code",
   "execution_count": 26,
   "metadata": {},
   "outputs": [],
   "source": [
    "model = CNNModel()"
   ]
  },
  {
   "cell_type": "code",
   "execution_count": 27,
   "metadata": {},
   "outputs": [],
   "source": [
    "#######################\n",
    "#  USE GPU FOR MODEL  #\n",
    "#######################\n",
    "\n",
    "if torch.cuda.is_available():\n",
    "    model.cuda()"
   ]
  },
  {
   "cell_type": "markdown",
   "metadata": {},
   "source": [
    "### STEP 5: INSTANTIATE LOSS CLASS"
   ]
  },
  {
   "cell_type": "code",
   "execution_count": 28,
   "metadata": {},
   "outputs": [],
   "source": [
    "criterion = nn.CrossEntropyLoss()"
   ]
  },
  {
   "cell_type": "markdown",
   "metadata": {},
   "source": [
    "### STEP 6: INSTANTIATE OPTIMIZER CLASS"
   ]
  },
  {
   "cell_type": "code",
   "execution_count": 29,
   "metadata": {},
   "outputs": [],
   "source": [
    "learning_rate = 0.01\n",
    "\n",
    "optimizer = torch.optim.SGD(model.parameters(), lr=learning_rate)"
   ]
  },
  {
   "cell_type": "markdown",
   "metadata": {},
   "source": [
    "### STEP 7: TRAIN THE MODEL"
   ]
  },
  {
   "cell_type": "code",
   "execution_count": 30,
   "metadata": {},
   "outputs": [
    {
     "name": "stdout",
     "output_type": "stream",
     "text": [
      "Iteration: 500. Loss: 3.4403905868530273. Accuracy: 15\n",
      "Iteration: 1000. Loss: 2.945664167404175. Accuracy: 18\n",
      "Iteration: 1500. Loss: 3.063861846923828. Accuracy: 20\n",
      "Iteration: 2000. Loss: 2.6702938079833984. Accuracy: 22\n",
      "Iteration: 2500. Loss: 2.928973913192749. Accuracy: 23\n",
      "Iteration: 3000. Loss: 2.990509510040283. Accuracy: 23\n",
      "Iteration: 3500. Loss: 2.329326868057251. Accuracy: 25\n",
      "Iteration: 4000. Loss: 2.255774736404419. Accuracy: 25\n",
      "Iteration: 4500. Loss: 2.3030154705047607. Accuracy: 25\n",
      "Iteration: 5000. Loss: 2.393705368041992. Accuracy: 25\n",
      "Iteration: 5500. Loss: 1.5665842294692993. Accuracy: 25\n",
      "Iteration: 6000. Loss: 1.9094985723495483. Accuracy: 25\n",
      "Iteration: 6500. Loss: 1.5605496168136597. Accuracy: 25\n",
      "Iteration: 7000. Loss: 1.4165098667144775. Accuracy: 24\n",
      "Iteration: 7500. Loss: 1.6259392499923706. Accuracy: 24\n",
      "Iteration: 8000. Loss: 1.0495846271514893. Accuracy: 23\n",
      "Iteration: 8500. Loss: 1.20859956741333. Accuracy: 23\n",
      "Iteration: 9000. Loss: 0.7457762360572815. Accuracy: 23\n",
      "Iteration: 9500. Loss: 1.4663915634155273. Accuracy: 22\n",
      "Iteration: 10000. Loss: 0.7891645431518555. Accuracy: 23\n",
      "Iteration: 10500. Loss: 0.7729148268699646. Accuracy: 21\n",
      "Iteration: 11000. Loss: 0.6924806833267212. Accuracy: 22\n",
      "Iteration: 11500. Loss: 0.7193460464477539. Accuracy: 22\n",
      "Iteration: 12000. Loss: 0.7276970148086548. Accuracy: 21\n",
      "Iteration: 12500. Loss: 0.5051461458206177. Accuracy: 21\n",
      "Iteration: 13000. Loss: 0.19198596477508545. Accuracy: 21\n",
      "Iteration: 13500. Loss: 0.31067949533462524. Accuracy: 21\n",
      "Iteration: 14000. Loss: 0.21061690151691437. Accuracy: 21\n",
      "Iteration: 14500. Loss: 0.20353972911834717. Accuracy: 21\n",
      "Iteration: 15000. Loss: 0.19342194497585297. Accuracy: 21\n",
      "Iteration: 15500. Loss: 0.2616194486618042. Accuracy: 21\n",
      "Iteration: 16000. Loss: 0.18424704670906067. Accuracy: 20\n",
      "Iteration: 16500. Loss: 0.24440059065818787. Accuracy: 20\n",
      "Iteration: 17000. Loss: 0.07544168829917908. Accuracy: 20\n",
      "Iteration: 17500. Loss: 0.077432781457901. Accuracy: 21\n",
      "Iteration: 18000. Loss: 0.08274322748184204. Accuracy: 20\n",
      "Iteration: 18500. Loss: 0.07800889015197754. Accuracy: 20\n",
      "Iteration: 19000. Loss: 0.1853037178516388. Accuracy: 20\n",
      "Iteration: 19500. Loss: 0.15417802333831787. Accuracy: 21\n",
      "Iteration: 20000. Loss: 0.044573038816452026. Accuracy: 21\n",
      "Iteration: 20500. Loss: 0.04321703314781189. Accuracy: 20\n",
      "Iteration: 21000. Loss: 0.026744574308395386. Accuracy: 21\n",
      "Iteration: 21500. Loss: 0.03172054886817932. Accuracy: 21\n",
      "Iteration: 22000. Loss: 0.03224754333496094. Accuracy: 21\n",
      "Iteration: 22500. Loss: 0.01659354567527771. Accuracy: 21\n",
      "Iteration: 23000. Loss: 0.02823847532272339. Accuracy: 20\n",
      "Iteration: 23500. Loss: 0.019349336624145508. Accuracy: 20\n",
      "Iteration: 24000. Loss: 0.02096468210220337. Accuracy: 20\n",
      "Iteration: 24500. Loss: 0.022458791732788086. Accuracy: 20\n",
      "Iteration: 25000. Loss: 0.021146774291992188. Accuracy: 21\n",
      "Iteration: 25500. Loss: 0.0236855149269104. Accuracy: 20\n",
      "Iteration: 26000. Loss: 0.017229080200195312. Accuracy: 21\n",
      "Iteration: 26500. Loss: 0.01906263828277588. Accuracy: 20\n",
      "Iteration: 27000. Loss: 0.014344274997711182. Accuracy: 20\n",
      "Iteration: 27500. Loss: 0.016482293605804443. Accuracy: 20\n",
      "Iteration: 28000. Loss: 0.017494410276412964. Accuracy: 20\n",
      "Iteration: 28500. Loss: 0.012230098247528076. Accuracy: 21\n",
      "Iteration: 29000. Loss: 0.011698246002197266. Accuracy: 20\n",
      "Iteration: 29500. Loss: 0.10855987668037415. Accuracy: 20\n"
     ]
    }
   ],
   "source": [
    "niter = 0\n",
    "for epoch in range(num_epochs):\n",
    "    for i, (images, labels) in enumerate(train_loader):\n",
    "        \n",
    "        #######################\n",
    "        #  USE GPU FOR MODEL  #\n",
    "        #######################\n",
    "        if torch.cuda.is_available():\n",
    "            images = Variable(images.unsqueeze(1).cuda())\n",
    "            labels = Variable(labels.cuda())\n",
    "        else:\n",
    "            images = Variable(images.unsqueeze(1))\n",
    "            labels = Variable(labels)\n",
    "        \n",
    "        # Clear gradients w.r.t. parameters\n",
    "        optimizer.zero_grad()\n",
    "        \n",
    "        # Forward pass to get output/logits\n",
    "        #images = images.unsqueeze(1).type(torch.FloatTensor).cuda()\n",
    "        outputs = model(images)\n",
    "        \n",
    "        # Calculate Loss: softmax --> cross entropy loss\n",
    "        loss = criterion(outputs, labels)\n",
    "        \n",
    "        # Getting gradients w.r.t. parameters\n",
    "        loss.backward()\n",
    "        \n",
    "        # Updating parameters\n",
    "        optimizer.step()\n",
    "        \n",
    "        niter += 1\n",
    "        \n",
    "        if niter % 500 == 0:\n",
    "            # Calculate Accuracy         \n",
    "            correct = 0\n",
    "            total = 0\n",
    "            # Iterate through test dataset\n",
    "            for images, labels in test_loader:\n",
    "                #######################\n",
    "                #  USE GPU FOR MODEL  #\n",
    "                #######################\n",
    "                if torch.cuda.is_available():\n",
    "                    images = Variable(images.unsqueeze(1).cuda())\n",
    "                else:\n",
    "                    images = Variable(images.unsqueeze(1))\n",
    "                \n",
    "                # Forward pass only to get logits/output\n",
    "                outputs = model(images)\n",
    "                \n",
    "                # Get predictions from the maximum value\n",
    "                _, predicted = torch.max(outputs.data, 1)\n",
    "                \n",
    "                # Total number of labels\n",
    "                total += labels.size(0)\n",
    "                \n",
    "                #######################\n",
    "                #  USE GPU FOR MODEL  #\n",
    "                #######################\n",
    "                # Total correct predictions\n",
    "                if torch.cuda.is_available():\n",
    "                    correct += (predicted.cpu() == labels.cpu()).sum()\n",
    "                else:\n",
    "                    correct += (predicted == labels).sum()\n",
    "            \n",
    "            accuracy = 100 * correct / total\n",
    "            \n",
    "            # Print Loss\n",
    "            print('Iteration: {}. Loss: {}. Accuracy: {}'.format(niter, loss.data, accuracy))"
   ]
  },
  {
   "cell_type": "raw",
   "metadata": {},
   "source": [
    "a = Variable(torch.randn(1, 1, 65, 65))"
   ]
  },
  {
   "cell_type": "raw",
   "metadata": {},
   "source": [
    "maxpool = nn.MaxPool2d(kernel_size=2 )#, stride=1, padding=1)"
   ]
  },
  {
   "cell_type": "raw",
   "metadata": {},
   "source": [
    "b = maxpool(a)"
   ]
  },
  {
   "cell_type": "raw",
   "metadata": {},
   "source": [
    "b.shape"
   ]
  },
  {
   "cell_type": "raw",
   "metadata": {},
   "source": [
    "cnn2 = nn.Conv2d(in_channels=1, out_channels=1, kernel_size=2, stride=1, padding=1)"
   ]
  },
  {
   "cell_type": "raw",
   "metadata": {},
   "source": [
    "c = cnn2(b)"
   ]
  },
  {
   "cell_type": "raw",
   "metadata": {},
   "source": [
    "c.shape"
   ]
  },
  {
   "cell_type": "raw",
   "metadata": {},
   "source": [
    "d = maxpool(c)"
   ]
  },
  {
   "cell_type": "raw",
   "metadata": {},
   "source": [
    "d.shape"
   ]
  },
  {
   "cell_type": "raw",
   "metadata": {},
   "source": [
    "from sklearn import preprocessing\n"
   ]
  },
  {
   "cell_type": "raw",
   "metadata": {},
   "source": [
    "a=[[0,0,1,1,1,1,2,2,2],\n",
    "   [1,1,1,1,1,1,2,2,2],\n",
    " [2,2,2,2,3,3,3,3,3]]"
   ]
  },
  {
   "cell_type": "raw",
   "metadata": {},
   "source": [
    "import pandas as pd"
   ]
  },
  {
   "cell_type": "raw",
   "metadata": {},
   "source": [
    "a = pd.DataFrame(a)"
   ]
  },
  {
   "cell_type": "raw",
   "metadata": {},
   "source": [
    "a"
   ]
  },
  {
   "cell_type": "raw",
   "metadata": {},
   "source": [
    "a.describe()"
   ]
  },
  {
   "cell_type": "raw",
   "metadata": {},
   "source": [
    "b = preprocessing.scale(a, axis=0)"
   ]
  },
  {
   "cell_type": "raw",
   "metadata": {},
   "source": [
    "b = pd.DataFrame(b)"
   ]
  },
  {
   "cell_type": "raw",
   "metadata": {},
   "source": [
    "b"
   ]
  },
  {
   "cell_type": "raw",
   "metadata": {},
   "source": [
    "b.describe()"
   ]
  },
  {
   "cell_type": "raw",
   "metadata": {},
   "source": [
    "c = preprocessing.scale(a, axis=1)"
   ]
  },
  {
   "cell_type": "raw",
   "metadata": {},
   "source": [
    "c = pd.DataFrame(c)"
   ]
  },
  {
   "cell_type": "raw",
   "metadata": {},
   "source": [
    "c.describe()"
   ]
  }
 ],
 "metadata": {
  "kernelspec": {
   "display_name": "Pytorch (base env)",
   "language": "python",
   "name": "base"
  },
  "language_info": {
   "codemirror_mode": {
    "name": "ipython",
    "version": 3
   },
   "file_extension": ".py",
   "mimetype": "text/x-python",
   "name": "python",
   "nbconvert_exporter": "python",
   "pygments_lexer": "ipython3",
   "version": "3.7.1"
  }
 },
 "nbformat": 4,
 "nbformat_minor": 2
}
