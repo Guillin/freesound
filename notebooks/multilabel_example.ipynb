{
 "cells": [
  {
   "cell_type": "code",
   "execution_count": 3,
   "metadata": {},
   "outputs": [
    {
     "name": "stdout",
     "output_type": "stream",
     "text": [
      "[1/5] Loss: 0.101\n",
      "[2/5] Loss: 0.006\n",
      "[3/5] Loss: 0.001\n",
      "[4/5] Loss: 0.000\n",
      "[5/5] Loss: 0.000\n"
     ]
    }
   ],
   "source": [
    "import torch\n",
    "import torch.nn as nn\n",
    "import numpy as np\n",
    "import torch.optim as optim\n",
    "from torch.autograd import Variable\n",
    "\n",
    "# (1, 0) => target labels 0+2\n",
    "# (0, 1) => target labels 1\n",
    "# (1, 1) => target labels 3\n",
    "train = []\n",
    "labels = []\n",
    "for i in range(10000):\n",
    "    category = (np.random.choice([0, 1]), np.random.choice([0, 1]))\n",
    "    if category == (1, 0):\n",
    "        train.append([np.random.uniform(0.1, 1), 0])\n",
    "        labels.append([1, 0, 1])\n",
    "    if category == (0, 1):\n",
    "        train.append([0, np.random.uniform(0.1, 1)])\n",
    "        labels.append([0, 1, 0])\n",
    "    if category == (0, 0):\n",
    "        train.append([np.random.uniform(0.1, 1), np.random.uniform(0.1, 1)])\n",
    "        labels.append([0, 0, 1])\n",
    "\n",
    "class _classifier(nn.Module):\n",
    "    def __init__(self, nlabel):\n",
    "        super(_classifier, self).__init__()\n",
    "        self.main = nn.Sequential(\n",
    "            nn.Linear(2, 64),\n",
    "            nn.ReLU(),\n",
    "            nn.Linear(64, nlabel),\n",
    "        )\n",
    "\n",
    "    def forward(self, input):\n",
    "        return self.main(input)\n",
    "\n",
    "nlabel = len(labels[0]) # => 3\n",
    "classifier = _classifier(nlabel)\n",
    "\n",
    "optimizer = optim.Adam(classifier.parameters())\n",
    "criterion = nn.MultiLabelSoftMarginLoss()\n",
    "\n",
    "epochs = 5\n",
    "for epoch in range(epochs):\n",
    "    losses = []\n",
    "    for i, sample in enumerate(train):\n",
    "        inputv = Variable(torch.FloatTensor(sample)).view(1, -1)\n",
    "        labelsv = Variable(torch.FloatTensor(labels[i])).view(1, -1)\n",
    "        \n",
    "        output = classifier(inputv)\n",
    "        loss = criterion(output, labelsv)\n",
    "\n",
    "        optimizer.zero_grad()\n",
    "        loss.backward()\n",
    "        optimizer.step()\n",
    "        losses.append(loss.data.mean())\n",
    "    print('[%d/%d] Loss: %.3f' % (epoch+1, epochs, np.mean(losses)))"
   ]
  },
  {
   "cell_type": "code",
   "execution_count": 10,
   "metadata": {},
   "outputs": [
    {
     "data": {
      "text/plain": [
       "(7537, 2)"
      ]
     },
     "execution_count": 10,
     "metadata": {},
     "output_type": "execute_result"
    }
   ],
   "source": [
    "np.shape(train)"
   ]
  },
  {
   "cell_type": "code",
   "execution_count": 9,
   "metadata": {},
   "outputs": [
    {
     "data": {
      "text/plain": [
       "(7537, 3)"
      ]
     },
     "execution_count": 9,
     "metadata": {},
     "output_type": "execute_result"
    }
   ],
   "source": [
    "np.shape(labels)"
   ]
  },
  {
   "cell_type": "code",
   "execution_count": 14,
   "metadata": {},
   "outputs": [
    {
     "data": {
      "text/plain": [
       "[0, 1, 0]"
      ]
     },
     "execution_count": 14,
     "metadata": {},
     "output_type": "execute_result"
    }
   ],
   "source": [
    "labels[1]"
   ]
  },
  {
   "cell_type": "code",
   "execution_count": 13,
   "metadata": {},
   "outputs": [
    {
     "data": {
      "text/plain": [
       "tensor([[0., 1., 0.]])"
      ]
     },
     "execution_count": 13,
     "metadata": {},
     "output_type": "execute_result"
    }
   ],
   "source": [
    "Variable(torch.FloatTensor(labels[1])).view(1, -1)"
   ]
  }
 ],
 "metadata": {
  "kernelspec": {
   "display_name": "Pytorch (base env)",
   "language": "python",
   "name": "base"
  },
  "language_info": {
   "codemirror_mode": {
    "name": "ipython",
    "version": 3
   },
   "file_extension": ".py",
   "mimetype": "text/x-python",
   "name": "python",
   "nbconvert_exporter": "python",
   "pygments_lexer": "ipython3",
   "version": "3.7.1"
  }
 },
 "nbformat": 4,
 "nbformat_minor": 2
}
