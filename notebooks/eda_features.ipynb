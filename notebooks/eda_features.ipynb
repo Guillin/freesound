{
 "cells": [
  {
   "cell_type": "code",
   "execution_count": 1,
   "metadata": {},
   "outputs": [],
   "source": [
    "import numpy as np"
   ]
  },
  {
   "cell_type": "code",
   "execution_count": 3,
   "metadata": {},
   "outputs": [],
   "source": [
    "import matplotlib.pyplot as plt\n",
    "import pandas as pd\n"
   ]
  },
  {
   "cell_type": "code",
   "execution_count": 18,
   "metadata": {},
   "outputs": [],
   "source": [
    "train_curated_features = np.load('../data/processed/train_curated_features.npy')"
   ]
  },
  {
   "cell_type": "code",
   "execution_count": 19,
   "metadata": {},
   "outputs": [
    {
     "name": "stdout",
     "output_type": "stream",
     "text": [
      "train min len:  0.18575963718820862\n",
      "train max len:  56.81922902494331\n",
      "train mean len:  7.4575235357724585\n"
     ]
    }
   ],
   "source": [
    "print('train min len: ', np.min(train_curated_features[:,0]))\n",
    "print('train max len: ',np.max(train_curated_features[:,0]))\n",
    "print('train mean len: ',np.mean(train_curated_features[:,0]))\n"
   ]
  },
  {
   "cell_type": "code",
   "execution_count": 4,
   "metadata": {},
   "outputs": [],
   "source": [
    "test_features = np.load('../data/processed/test_features.npy')"
   ]
  },
  {
   "cell_type": "code",
   "execution_count": 16,
   "metadata": {},
   "outputs": [
    {
     "name": "stdout",
     "output_type": "stream",
     "text": [
      "test min len:  0.06965986394557823\n",
      "test max len:  30.0\n",
      "test mean len:  9.710849611273082\n"
     ]
    }
   ],
   "source": [
    "print('test min len: ', np.min(test_features[:,0]))\n",
    "print('test max len: ',np.max(test_features[:,0]))\n",
    "print('test mean len: ',np.mean(test_features[:,0]))\n"
   ]
  },
  {
   "cell_type": "code",
   "execution_count": 20,
   "metadata": {},
   "outputs": [
    {
     "data": {
      "text/plain": [
       "113"
      ]
     },
     "execution_count": 20,
     "metadata": {},
     "output_type": "execute_result"
    }
   ],
   "source": [
    "np.argmin(train_curated_features[:,0])    "
   ]
  }
 ],
 "metadata": {
  "kernelspec": {
   "display_name": "Python 3",
   "language": "python",
   "name": "python3"
  },
  "language_info": {
   "codemirror_mode": {
    "name": "ipython",
    "version": 3
   },
   "file_extension": ".py",
   "mimetype": "text/x-python",
   "name": "python",
   "nbconvert_exporter": "python",
   "pygments_lexer": "ipython3",
   "version": "3.7.3"
  }
 },
 "nbformat": 4,
 "nbformat_minor": 2
}
